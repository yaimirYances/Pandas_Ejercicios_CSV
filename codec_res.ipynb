{
 "cells": [
  {
   "cell_type": "code",
   "execution_count": null,
   "metadata": {},
   "outputs": [],
   "source": [
    "import pandas as pd\n",
    "import numpy as np"
   ]
  },
  {
   "cell_type": "code",
   "execution_count": null,
   "metadata": {},
   "outputs": [],
   "source": [
    "registros = pd.read_csv(\"ATP.csv\")\n",
    "print(registros.info())"
   ]
  },
  {
   "cell_type": "code",
   "execution_count": null,
   "metadata": {},
   "outputs": [],
   "source": [
    "\n",
    "nuevo = pd.DataFrame(registros)\n",
    "nuevo"
   ]
  },
  {
   "cell_type": "code",
   "execution_count": null,
   "metadata": {},
   "outputs": [],
   "source": [
    "nuevo = nuevo.replace(np.nan,\"0\")\n",
    "print(\"+\"*5+\"SIN NaN\"+\"*\"*5)\n",
    "print(nuevo.info())"
   ]
  },
  {
   "cell_type": "code",
   "execution_count": null,
   "metadata": {},
   "outputs": [],
   "source": [
    "registros"
   ]
  },
  {
   "cell_type": "code",
   "execution_count": null,
   "metadata": {},
   "outputs": [],
   "source": [
    "nuevo.describe()"
   ]
  },
  {
   "cell_type": "code",
   "execution_count": null,
   "metadata": {},
   "outputs": [],
   "source": [
    "#SOLO NUMEROS\n",
    "nuevo.describe(include=([np.number]))"
   ]
  },
  {
   "cell_type": "code",
   "execution_count": null,
   "metadata": {},
   "outputs": [],
   "source": [
    "#REMPLAZANDO DATOS\n",
    "nuevo = nuevo.replace(\"NR\",\"0\")\n",
    "nuevo"
   ]
  },
  {
   "cell_type": "code",
   "execution_count": null,
   "metadata": {},
   "outputs": [],
   "source": [
    "list(nuevo)"
   ]
  },
  {
   "cell_type": "code",
   "execution_count": null,
   "metadata": {},
   "outputs": [],
   "source": [
    "#CONVIRTIENDO DATOS EN ENTERO\n",
    "nuevo[\"Wsets\"]=nuevo.Wsets.astype(int)\n",
    "nuevo[\"WRank\"]=nuevo.WRank.astype(int)"
   ]
  },
  {
   "cell_type": "code",
   "execution_count": null,
   "metadata": {},
   "outputs": [],
   "source": [
    "nuevo.describe()"
   ]
  },
  {
   "cell_type": "code",
   "execution_count": null,
   "metadata": {},
   "outputs": [],
   "source": [
    "#ELIMINAR TODAS LAS FILAS\n",
    "nuevo.dropna(how=\"any\", inplace=True)\n",
    "nuevo"
   ]
  },
  {
   "cell_type": "code",
   "execution_count": null,
   "metadata": {},
   "outputs": [],
   "source": [
    "#IMPRIMIEDO LAS PRIMERAS 5 FILAS\n",
    "nuevo.iloc[0:5]"
   ]
  },
  {
   "cell_type": "code",
   "execution_count": null,
   "metadata": {},
   "outputs": [],
   "source": [
    "#IMPRIMIENDO FILAS SALTEADAS\n",
    "nuevo.iloc[[0,3,6,24]]"
   ]
  },
  {
   "cell_type": "code",
   "execution_count": null,
   "metadata": {},
   "outputs": [],
   "source": [
    "#TRABAJAR CON LAS COLUMNAS\n",
    "nuevo.iloc[:,0:5]"
   ]
  },
  {
   "cell_type": "code",
   "execution_count": null,
   "metadata": {},
   "outputs": [],
   "source": [
    "#TRABAJAR CON FILAS Y COLUMAS\n",
    "nuevo.iloc[[0,3,6,25,28],[0,5,8,9]]"
   ]
  },
  {
   "cell_type": "code",
   "execution_count": null,
   "metadata": {},
   "outputs": [],
   "source": [
    "#TRABAJAR CON FILAS Y COLUMAS\n",
    "nuevo.iloc[[0,3,6,25,28],[0,8,7,6,5]]"
   ]
  },
  {
   "cell_type": "code",
   "execution_count": null,
   "metadata": {},
   "outputs": [],
   "source": [
    "#INDICAR LA COLUMNA LOCATION COMO INDEX\n",
    "nuevo.set_index(\"Location\", inplace=True)"
   ]
  },
  {
   "cell_type": "code",
   "execution_count": null,
   "metadata": {},
   "outputs": [],
   "source": [
    "nuevo"
   ]
  },
  {
   "cell_type": "code",
   "execution_count": null,
   "metadata": {},
   "outputs": [],
   "source": [
    "nuevo.loc[\"Melbourne\"]"
   ]
  },
  {
   "cell_type": "code",
   "execution_count": null,
   "metadata": {},
   "outputs": [],
   "source": [
    "nuevo.loc[\"Atlanta\",\"Surface\"]"
   ]
  },
  {
   "cell_type": "code",
   "execution_count": null,
   "metadata": {},
   "outputs": [],
   "source": [
    "#SELECCION AMPLIA\n",
    "nuevo.loc[[\"Atlanta\",\"Melbourne\"],[\"Series\",\"Court\"]]"
   ]
  },
  {
   "cell_type": "code",
   "execution_count": null,
   "metadata": {},
   "outputs": [],
   "source": [
    "#SELECCION AMPLIA\n",
    "nuevo.loc[[\"Atlanta\",\"Melbourne\"],\"Series\":\"Round\"]"
   ]
  },
  {
   "cell_type": "code",
   "execution_count": null,
   "metadata": {},
   "outputs": [],
   "source": [
    "#SELECCIONAR LAS SERIES TERMINADAS EN Slam\n",
    "nuevo.loc[nuevo[\"Series\"].str.endswith(\"Slam\")]"
   ]
  },
  {
   "cell_type": "code",
   "execution_count": null,
   "metadata": {},
   "outputs": [],
   "source": [
    "#EXPORTAR ARCHIVO CSV PARA MAS AYUDA\n",
    "dfCSV = nuevo.loc[nuevo[\"Series\"].str.endswith(\"Slam\")]\n",
    "dfCSV.to_csv(\"CSV/Slam.csv\", header=True, index=False)"
   ]
  },
  {
   "cell_type": "code",
   "execution_count": null,
   "metadata": {},
   "outputs": [],
   "source": [
    "#EXPORTAR ARCHIVO CSV PARA MAS AYUDA\n",
    "dfCSV = nuevo.loc[nuevo[\"Series\"].str.endswith(\"Slam\")]\n",
    "dfCSV.to_csv(\"CSV/Slam2.csv\")"
   ]
  },
  {
   "cell_type": "code",
   "execution_count": null,
   "metadata": {},
   "outputs": [],
   "source": [
    "#CONSULTAR REGISTROS CON CONDICIONES\n",
    "nuevo"
   ]
  },
  {
   "cell_type": "code",
   "execution_count": null,
   "metadata": {},
   "outputs": [],
   "source": [
    "nuevo.loc[nuevo[\"Court\"]==\"Outdoor\",[\"Surface\",\"Winner\"]]"
   ]
  },
  {
   "cell_type": "code",
   "execution_count": null,
   "metadata": {},
   "outputs": [],
   "source": [
    "#BUSQUEDA CON VARIAS CONDICIONES\n",
    "nuevo.loc[nuevo[\"Series\"].str.endswith(\"Slam\")&(nuevo[\"Surface\"]==\"Clay\")&(nuevo[\"Winner\"]==\"Federer R.\")&(nuevo[\"Round\"]==\"The Final\")]"
   ]
  },
  {
   "cell_type": "code",
   "execution_count": null,
   "metadata": {},
   "outputs": [],
   "source": [
    "#ORDENAR LOS VALORES\n",
    "registros = pd.read_csv(\"DatosYT.csv\")\n",
    "nuevo = pd.DataFrame(registros)\n",
    "nuevo.sort_values(by=[\"id\"],ascending=[False])"
   ]
  },
  {
   "cell_type": "code",
   "execution_count": null,
   "metadata": {},
   "outputs": [],
   "source": [
    "#ELIMINAR FILAS\n",
    "canciones = pd.read_csv(\"canciones.csv\")\n",
    "df = pd.DataFrame(canciones)\n",
    "df"
   ]
  },
  {
   "cell_type": "code",
   "execution_count": null,
   "metadata": {},
   "outputs": [],
   "source": [
    "filas = len(df.index)\n",
    "df.drop(df.index[[filas-1]], inplace=True)"
   ]
  },
  {
   "cell_type": "code",
   "execution_count": null,
   "metadata": {},
   "outputs": [],
   "source": [
    "df"
   ]
  },
  {
   "cell_type": "code",
   "execution_count": null,
   "metadata": {},
   "outputs": [],
   "source": [
    "minutos = pd.read_csv(\"minutos2.csv\")\n",
    "df = pd.DataFrame(minutos)\n",
    "df"
   ]
  },
  {
   "cell_type": "code",
   "execution_count": null,
   "metadata": {},
   "outputs": [],
   "source": [
    "alto = df.loc[0,\"B\"]\n",
    "for i in range(1,len(df)):\n",
    "    if df.loc[i,\"B\"]>df.loc[i-1,\"B\"] and df.loc[i,\"B\"]>alto:\n",
    "        df.loc[i,\"DB\"]=df.loc[i,\"B\"]-alto\n",
    "        alto = df.loc[i,\"B\"]\n",
    "    else:\n",
    "        df.loc[i,\"DB\"]=0"
   ]
  },
  {
   "cell_type": "code",
   "execution_count": null,
   "metadata": {},
   "outputs": [],
   "source": [
    "df"
   ]
  },
  {
   "cell_type": "code",
   "execution_count": null,
   "metadata": {},
   "outputs": [],
   "source": [
    "total = df[\"DB\"].sum()\n",
    "total"
   ]
  },
  {
   "cell_type": "code",
   "execution_count": null,
   "metadata": {},
   "outputs": [],
   "source": [
    "df[\"PB\"]=df[\"B\"].diff(1)\n",
    "df"
   ]
  },
  {
   "cell_type": "code",
   "execution_count": null,
   "metadata": {},
   "outputs": [],
   "source": [
    "peliculas = pd.read_csv(\"movies2.csv\")\n",
    "df = pd.DataFrame(peliculas)\n",
    "df"
   ]
  },
  {
   "cell_type": "code",
   "execution_count": null,
   "metadata": {},
   "outputs": [],
   "source": [
    "#MAXIMA DURACION DE UNA PELICULA\n",
    "minutos = df[\"duration\"].max()\n",
    "minutos/60"
   ]
  },
  {
   "cell_type": "code",
   "execution_count": null,
   "metadata": {},
   "outputs": [],
   "source": [
    "#PELICULA QUE DURA MAS\n",
    "idPelicula = df[\"duration\"].idxmax()\n",
    "type(idPelicula)"
   ]
  },
  {
   "cell_type": "code",
   "execution_count": null,
   "metadata": {},
   "outputs": [],
   "source": [
    "#NOMBRE DE LA PELICULA CON MAYOR DURACION\n",
    "df._get_value(idPelicula,\"movie_title\")"
   ]
  },
  {
   "cell_type": "code",
   "execution_count": null,
   "metadata": {},
   "outputs": [],
   "source": [
    "#CREANDO GROUPBY Y SUMANDO LOS DATOS\n",
    "df1 = df.groupby([\"genres\"])[[\"movie_facebook_likes\"]].sum()\n",
    "df1"
   ]
  },
  {
   "cell_type": "code",
   "execution_count": null,
   "metadata": {},
   "outputs": [],
   "source": [
    "#GENERO CON MAS LIKES\n",
    "likes = df.groupby([\"genres\"])[[\"movie_facebook_likes\"]].sum()\n",
    "likes[\"movie_facebook_likes\"].idxmax()"
   ]
  },
  {
   "cell_type": "code",
   "execution_count": null,
   "metadata": {},
   "outputs": [],
   "source": [
    "#TOTAL LIKES DEL GENERO CON MAYOR LIKE\n",
    "likes[\"movie_facebook_likes\"].max()"
   ]
  },
  {
   "cell_type": "code",
   "execution_count": null,
   "metadata": {},
   "outputs": [],
   "source": [
    "#GRUPO POR PRESUPUESTO PARA CADA DIRECTOR\n",
    "df2 = df.groupby([\"director_name\"])[[\"budget\"]]\n",
    "#SUMA POR PRESUPUESTO PARA CADA DIRECTOR\n",
    "df2.sum()"
   ]
  },
  {
   "cell_type": "code",
   "execution_count": null,
   "metadata": {},
   "outputs": [],
   "source": [
    "#PROMEDIO POR PRESUPUESTO PARA CADA DIRECTOR\n",
    "df2.mean()"
   ]
  },
  {
   "cell_type": "code",
   "execution_count": null,
   "metadata": {},
   "outputs": [],
   "source": [
    "dinero = df.groupby([\"genres\"])[[\"budget\"]].sum()\n",
    "print(dinero[\"budget\"].idxmax(), \" \", dinero[\"budget\"].max())"
   ]
  }
 ],
 "metadata": {
  "kernelspec": {
   "display_name": "Python 3",
   "language": "python",
   "name": "python3"
  },
  "language_info": {
   "codemirror_mode": {
    "name": "ipython",
    "version": 3
   },
   "file_extension": ".py",
   "mimetype": "text/x-python",
   "name": "python",
   "nbconvert_exporter": "python",
   "pygments_lexer": "ipython3",
   "version": "3.10.12"
  },
  "orig_nbformat": 4
 },
 "nbformat": 4,
 "nbformat_minor": 2
}
