{
 "cells": [
  {
   "cell_type": "code",
   "execution_count": 2,
   "metadata": {},
   "outputs": [],
   "source": [
    "import pandas as pd\n",
    "import numpy as np"
   ]
  },
  {
   "cell_type": "code",
   "execution_count": 3,
   "metadata": {},
   "outputs": [
    {
     "data": {
      "text/html": [
       "<div>\n",
       "<style scoped>\n",
       "    .dataframe tbody tr th:only-of-type {\n",
       "        vertical-align: middle;\n",
       "    }\n",
       "\n",
       "    .dataframe tbody tr th {\n",
       "        vertical-align: top;\n",
       "    }\n",
       "\n",
       "    .dataframe thead th {\n",
       "        text-align: right;\n",
       "    }\n",
       "</style>\n",
       "<table border=\"1\" class=\"dataframe\">\n",
       "  <thead>\n",
       "    <tr style=\"text-align: right;\">\n",
       "      <th></th>\n",
       "      <th>producto</th>\n",
       "      <th>procedencia</th>\n",
       "      <th>precio</th>\n",
       "    </tr>\n",
       "  </thead>\n",
       "  <tbody>\n",
       "    <tr>\n",
       "      <th>0</th>\n",
       "      <td>Aguacate hass</td>\n",
       "      <td>MichoacándeOcampo</td>\n",
       "      <td>37.113636</td>\n",
       "    </tr>\n",
       "    <tr>\n",
       "      <th>1</th>\n",
       "      <td>Fresa</td>\n",
       "      <td>Guanajuato</td>\n",
       "      <td>19.772955</td>\n",
       "    </tr>\n",
       "    <tr>\n",
       "      <th>2</th>\n",
       "      <td>Guayaba</td>\n",
       "      <td>Aguascalientes</td>\n",
       "      <td>7.500000</td>\n",
       "    </tr>\n",
       "    <tr>\n",
       "      <th>3</th>\n",
       "      <td>Limón núm. 5</td>\n",
       "      <td>Colima</td>\n",
       "      <td>18.303864</td>\n",
       "    </tr>\n",
       "    <tr>\n",
       "      <th>4</th>\n",
       "      <td>Manzana golden delicious</td>\n",
       "      <td>Importación</td>\n",
       "      <td>26.640909</td>\n",
       "    </tr>\n",
       "    <tr>\n",
       "      <th>5</th>\n",
       "      <td>Naranja valencia mediana</td>\n",
       "      <td>NuevoLeón</td>\n",
       "      <td>5.345455</td>\n",
       "    </tr>\n",
       "    <tr>\n",
       "      <th>6</th>\n",
       "      <td>Papaya amarilla a</td>\n",
       "      <td>MichoacándeOcampo</td>\n",
       "      <td>9.636364</td>\n",
       "    </tr>\n",
       "    <tr>\n",
       "      <th>7</th>\n",
       "      <td>Piña cayene mediana</td>\n",
       "      <td>Oaxaca</td>\n",
       "      <td>7.431818</td>\n",
       "    </tr>\n",
       "    <tr>\n",
       "      <th>8</th>\n",
       "      <td>Plátano tabasco</td>\n",
       "      <td>Colima</td>\n",
       "      <td>5.995455</td>\n",
       "    </tr>\n",
       "    <tr>\n",
       "      <th>9</th>\n",
       "      <td>Toronja roja</td>\n",
       "      <td>MichoacándeOcampo</td>\n",
       "      <td>9.172727</td>\n",
       "    </tr>\n",
       "    <tr>\n",
       "      <th>10</th>\n",
       "      <td>Uva globo</td>\n",
       "      <td>Importación</td>\n",
       "      <td>40.908182</td>\n",
       "    </tr>\n",
       "  </tbody>\n",
       "</table>\n",
       "</div>"
      ],
      "text/plain": [
       "                    producto        procedencia     precio\n",
       "0              Aguacate hass  MichoacándeOcampo  37.113636\n",
       "1                      Fresa         Guanajuato  19.772955\n",
       "2                    Guayaba     Aguascalientes   7.500000\n",
       "3               Limón núm. 5             Colima  18.303864\n",
       "4   Manzana golden delicious        Importación  26.640909\n",
       "5   Naranja valencia mediana          NuevoLeón   5.345455\n",
       "6          Papaya amarilla a  MichoacándeOcampo   9.636364\n",
       "7        Piña cayene mediana             Oaxaca   7.431818\n",
       "8            Plátano tabasco             Colima   5.995455\n",
       "9               Toronja roja  MichoacándeOcampo   9.172727\n",
       "10                 Uva globo        Importación  40.908182"
      ]
     },
     "execution_count": 3,
     "metadata": {},
     "output_type": "execute_result"
    }
   ],
   "source": [
    "datos = pd.read_csv(\"precios.csv\")\n",
    "df = pd.DataFrame(datos)\n",
    "df"
   ]
  },
  {
   "cell_type": "code",
   "execution_count": 5,
   "metadata": {},
   "outputs": [
    {
     "data": {
      "text/plain": [
       "1    39.545909\n",
       "Name: precio, dtype: float64"
      ]
     },
     "execution_count": 5,
     "metadata": {},
     "output_type": "execute_result"
    }
   ],
   "source": [
    "def pago(cantidad,precio):\n",
    "    costo=cantidad*precio\n",
    "    return costo\n",
    "\n",
    "producto = input(\"Introcuce  tu compra\")\n",
    "piezas = int(input(\"Cunatas piezas necesita\"))\n",
    "precio = df[df[\"producto\"]==producto][\"precio\"]\n",
    "\n",
    "pago(piezas,precio)"
   ]
  }
 ],
 "metadata": {
  "kernelspec": {
   "display_name": "Python 3",
   "language": "python",
   "name": "python3"
  },
  "language_info": {
   "codemirror_mode": {
    "name": "ipython",
    "version": 3
   },
   "file_extension": ".py",
   "mimetype": "text/x-python",
   "name": "python",
   "nbconvert_exporter": "python",
   "pygments_lexer": "ipython3",
   "version": "3.10.12"
  },
  "orig_nbformat": 4
 },
 "nbformat": 4,
 "nbformat_minor": 2
}
