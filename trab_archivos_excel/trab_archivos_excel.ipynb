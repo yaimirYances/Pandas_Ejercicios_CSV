{
 "cells": [
  {
   "cell_type": "code",
   "execution_count": 1,
   "metadata": {},
   "outputs": [],
   "source": [
    "import pandas as pd\n",
    "import numpy as np\n",
    "import glob\n",
    "import matplotlib.pyplot as plt"
   ]
  },
  {
   "cell_type": "code",
   "execution_count": 3,
   "metadata": {},
   "outputs": [],
   "source": [
    "todos = []\n",
    "for f in glob.glob(\"*.xlsx\"):\n",
    "    df=pd.read_excel(f)\n",
    "    todos.append(pd.read_excel(f))"
   ]
  },
  {
   "cell_type": "code",
   "execution_count": 30,
   "metadata": {},
   "outputs": [
    {
     "data": {
      "text/html": [
       "<div>\n",
       "<style scoped>\n",
       "    .dataframe tbody tr th:only-of-type {\n",
       "        vertical-align: middle;\n",
       "    }\n",
       "\n",
       "    .dataframe tbody tr th {\n",
       "        vertical-align: top;\n",
       "    }\n",
       "\n",
       "    .dataframe thead th {\n",
       "        text-align: right;\n",
       "    }\n",
       "</style>\n",
       "<table border=\"1\" class=\"dataframe\">\n",
       "  <thead>\n",
       "    <tr style=\"text-align: right;\">\n",
       "      <th></th>\n",
       "      <th>Entidad</th>\n",
       "      <th>Rango</th>\n",
       "      <th>Hombres</th>\n",
       "      <th>Mujeres</th>\n",
       "    </tr>\n",
       "  </thead>\n",
       "  <tbody>\n",
       "    <tr>\n",
       "      <th>0</th>\n",
       "      <td>Ciudad de México</td>\n",
       "      <td>10 a 14 años</td>\n",
       "      <td>314701</td>\n",
       "      <td>303544</td>\n",
       "    </tr>\n",
       "    <tr>\n",
       "      <th>1</th>\n",
       "      <td>NaN</td>\n",
       "      <td>5 a 9 años</td>\n",
       "      <td>334885</td>\n",
       "      <td>324063</td>\n",
       "    </tr>\n",
       "    <tr>\n",
       "      <th>2</th>\n",
       "      <td>NaN</td>\n",
       "      <td>10 a 14 años</td>\n",
       "      <td>334674</td>\n",
       "      <td>325671</td>\n",
       "    </tr>\n",
       "    <tr>\n",
       "      <th>3</th>\n",
       "      <td>NaN</td>\n",
       "      <td>15 a 19 años</td>\n",
       "      <td>363265</td>\n",
       "      <td>360107</td>\n",
       "    </tr>\n",
       "    <tr>\n",
       "      <th>4</th>\n",
       "      <td>NaN</td>\n",
       "      <td>20 a 24 años</td>\n",
       "      <td>372368</td>\n",
       "      <td>381036</td>\n",
       "    </tr>\n",
       "    <tr>\n",
       "      <th>5</th>\n",
       "      <td>NaN</td>\n",
       "      <td>25 a 29 años</td>\n",
       "      <td>352969</td>\n",
       "      <td>373727</td>\n",
       "    </tr>\n",
       "    <tr>\n",
       "      <th>6</th>\n",
       "      <td>NaN</td>\n",
       "      <td>30 a 34 años</td>\n",
       "      <td>335988</td>\n",
       "      <td>366654</td>\n",
       "    </tr>\n",
       "    <tr>\n",
       "      <th>7</th>\n",
       "      <td>NaN</td>\n",
       "      <td>35 a 39 años</td>\n",
       "      <td>341865</td>\n",
       "      <td>380349</td>\n",
       "    </tr>\n",
       "    <tr>\n",
       "      <th>8</th>\n",
       "      <td>NaN</td>\n",
       "      <td>40 a 44 años</td>\n",
       "      <td>295151</td>\n",
       "      <td>334412</td>\n",
       "    </tr>\n",
       "    <tr>\n",
       "      <th>9</th>\n",
       "      <td>NaN</td>\n",
       "      <td>45 a 49 años</td>\n",
       "      <td>256078</td>\n",
       "      <td>299403</td>\n",
       "    </tr>\n",
       "  </tbody>\n",
       "</table>\n",
       "</div>"
      ],
      "text/plain": [
       "            Entidad         Rango  Hombres  Mujeres\n",
       "0  Ciudad de México  10 a 14 años   314701   303544\n",
       "1               NaN    5 a 9 años   334885   324063\n",
       "2               NaN  10 a 14 años   334674   325671\n",
       "3               NaN  15 a 19 años   363265   360107\n",
       "4               NaN  20 a 24 años   372368   381036\n",
       "5               NaN  25 a 29 años   352969   373727\n",
       "6               NaN  30 a 34 años   335988   366654\n",
       "7               NaN  35 a 39 años   341865   380349\n",
       "8               NaN  40 a 44 años   295151   334412\n",
       "9               NaN  45 a 49 años   256078   299403"
      ]
     },
     "execution_count": 30,
     "metadata": {},
     "output_type": "execute_result"
    }
   ],
   "source": [
    "# CONCATENANDO TODOS LOS DATAFRAME EN todos\n",
    "df = pd.concat(todos, ignore_index=True)\n",
    "df.head(10)"
   ]
  },
  {
   "cell_type": "code",
   "execution_count": 33,
   "metadata": {},
   "outputs": [
    {
     "data": {
      "text/plain": [
       "(105, 4)"
      ]
     },
     "execution_count": 33,
     "metadata": {},
     "output_type": "execute_result"
    }
   ],
   "source": [
    "df.shape"
   ]
  },
  {
   "cell_type": "code",
   "execution_count": 32,
   "metadata": {},
   "outputs": [],
   "source": [
    "grabar = pd.ExcelWriter(\"resultados.xlsx\")\n",
    "df.to_excel(grabar, \"Hoja 1\")\n",
    "grabar.close()"
   ]
  },
  {
   "cell_type": "code",
   "execution_count": 34,
   "metadata": {},
   "outputs": [
    {
     "data": {
      "text/html": [
       "<div>\n",
       "<style scoped>\n",
       "    .dataframe tbody tr th:only-of-type {\n",
       "        vertical-align: middle;\n",
       "    }\n",
       "\n",
       "    .dataframe tbody tr th {\n",
       "        vertical-align: top;\n",
       "    }\n",
       "\n",
       "    .dataframe thead th {\n",
       "        text-align: right;\n",
       "    }\n",
       "</style>\n",
       "<table border=\"1\" class=\"dataframe\">\n",
       "  <thead>\n",
       "    <tr style=\"text-align: right;\">\n",
       "      <th></th>\n",
       "      <th>Entidad</th>\n",
       "      <th>Rango</th>\n",
       "      <th>Hombres</th>\n",
       "      <th>Mujeres</th>\n",
       "    </tr>\n",
       "  </thead>\n",
       "  <tbody>\n",
       "    <tr>\n",
       "      <th>0</th>\n",
       "      <td>Ciudad de México</td>\n",
       "      <td>10 a 14 años</td>\n",
       "      <td>314701</td>\n",
       "      <td>303544</td>\n",
       "    </tr>\n",
       "    <tr>\n",
       "      <th>1</th>\n",
       "      <td>Ciudad de México</td>\n",
       "      <td>5 a 9 años</td>\n",
       "      <td>334885</td>\n",
       "      <td>324063</td>\n",
       "    </tr>\n",
       "    <tr>\n",
       "      <th>2</th>\n",
       "      <td>Ciudad de México</td>\n",
       "      <td>10 a 14 años</td>\n",
       "      <td>334674</td>\n",
       "      <td>325671</td>\n",
       "    </tr>\n",
       "    <tr>\n",
       "      <th>3</th>\n",
       "      <td>Ciudad de México</td>\n",
       "      <td>15 a 19 años</td>\n",
       "      <td>363265</td>\n",
       "      <td>360107</td>\n",
       "    </tr>\n",
       "    <tr>\n",
       "      <th>4</th>\n",
       "      <td>Ciudad de México</td>\n",
       "      <td>20 a 24 años</td>\n",
       "      <td>372368</td>\n",
       "      <td>381036</td>\n",
       "    </tr>\n",
       "    <tr>\n",
       "      <th>...</th>\n",
       "      <td>...</td>\n",
       "      <td>...</td>\n",
       "      <td>...</td>\n",
       "      <td>...</td>\n",
       "    </tr>\n",
       "    <tr>\n",
       "      <th>100</th>\n",
       "      <td>Aguascalientes</td>\n",
       "      <td>80 a 84 años</td>\n",
       "      <td>3094</td>\n",
       "      <td>4134</td>\n",
       "    </tr>\n",
       "    <tr>\n",
       "      <th>101</th>\n",
       "      <td>Aguascalientes</td>\n",
       "      <td>85 a 89 años</td>\n",
       "      <td>1780</td>\n",
       "      <td>2281</td>\n",
       "    </tr>\n",
       "    <tr>\n",
       "      <th>102</th>\n",
       "      <td>Aguascalientes</td>\n",
       "      <td>90 a 94 años</td>\n",
       "      <td>605</td>\n",
       "      <td>862</td>\n",
       "    </tr>\n",
       "    <tr>\n",
       "      <th>103</th>\n",
       "      <td>Aguascalientes</td>\n",
       "      <td>95 a 99 años</td>\n",
       "      <td>229</td>\n",
       "      <td>322</td>\n",
       "    </tr>\n",
       "    <tr>\n",
       "      <th>104</th>\n",
       "      <td>Aguascalientes</td>\n",
       "      <td>100 años y más</td>\n",
       "      <td>45</td>\n",
       "      <td>64</td>\n",
       "    </tr>\n",
       "  </tbody>\n",
       "</table>\n",
       "<p>105 rows × 4 columns</p>\n",
       "</div>"
      ],
      "text/plain": [
       "              Entidad           Rango  Hombres  Mujeres\n",
       "0    Ciudad de México    10 a 14 años   314701   303544\n",
       "1    Ciudad de México      5 a 9 años   334885   324063\n",
       "2    Ciudad de México    10 a 14 años   334674   325671\n",
       "3    Ciudad de México    15 a 19 años   363265   360107\n",
       "4    Ciudad de México    20 a 24 años   372368   381036\n",
       "..                ...             ...      ...      ...\n",
       "100    Aguascalientes    80 a 84 años     3094     4134\n",
       "101    Aguascalientes    85 a 89 años     1780     2281\n",
       "102    Aguascalientes    90 a 94 años      605      862\n",
       "103    Aguascalientes    95 a 99 años      229      322\n",
       "104    Aguascalientes  100 años y más       45       64\n",
       "\n",
       "[105 rows x 4 columns]"
      ]
     },
     "execution_count": 34,
     "metadata": {},
     "output_type": "execute_result"
    }
   ],
   "source": [
    "#RELLENAR LO FALTANTE CON LO ULTIMO ENCONTADO\n",
    "df=df.ffill()\n",
    "df"
   ]
  },
  {
   "cell_type": "code",
   "execution_count": 35,
   "metadata": {},
   "outputs": [
    {
     "data": {
      "text/plain": [
       "(105, 4)"
      ]
     },
     "execution_count": 35,
     "metadata": {},
     "output_type": "execute_result"
    }
   ],
   "source": [
    "df.shape"
   ]
  }
 ],
 "metadata": {
  "kernelspec": {
   "display_name": "Python 3",
   "language": "python",
   "name": "python3"
  },
  "language_info": {
   "codemirror_mode": {
    "name": "ipython",
    "version": 3
   },
   "file_extension": ".py",
   "mimetype": "text/x-python",
   "name": "python",
   "nbconvert_exporter": "python",
   "pygments_lexer": "ipython3",
   "version": "3.10.12"
  },
  "orig_nbformat": 4
 },
 "nbformat": 4,
 "nbformat_minor": 2
}
